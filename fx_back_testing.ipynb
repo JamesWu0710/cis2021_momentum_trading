{
 "cells": [
  {
   "cell_type": "code",
   "execution_count": 1,
   "metadata": {},
   "outputs": [],
   "source": [
    "import numpy as np\n",
    "import pandas as pd\n",
    "import matplotlib.pyplot as plt"
   ]
  },
  {
   "cell_type": "code",
   "execution_count": 2,
   "metadata": {},
   "outputs": [],
   "source": [
    "df_forward = pd.read_csv('simulated_forward.csv')\n",
    "tickers = list(df_forward.columns[1:])\n",
    "dates = list(df_forward['Date'])\n",
    "trading_days = dates[dates.index('3/18/2016'):]"
   ]
  },
  {
   "cell_type": "code",
   "execution_count": 3,
   "metadata": {},
   "outputs": [],
   "source": [
    "def get_param(date, currency, length):\n",
    "    d_index = dates.index(date)\n",
    "    prices = list(df_forward[currency][d_index - length - 1 : d_index])\n",
    "    returns = np.array([prices[i] / prices[i-1] - 1 for i in range(1,length+1)])\n",
    "    return np.mean(returns), np.std(returns)"
   ]
  },
  {
   "cell_type": "code",
   "execution_count": 4,
   "metadata": {},
   "outputs": [],
   "source": [
    "j=0\n",
    "all_trades = {}\n",
    "for j in range(len(trading_days)):\n",
    "    day = trading_days[j]\n",
    "    if j != len(trading_days) -1:\n",
    "        next_day = trading_days[j+1]\n",
    "    else:\n",
    "        next_day = day\n",
    "        \n",
    "    ret, std = [get_param(day, t, 5)[0] for t in tickers], [get_param(day, t, 5)[1] for t in tickers]  \n",
    "    scores = [(ret[i] - 0.03/252) / std[i] for i in range(len(tickers)) if std[i] != 0]\n",
    "    ranking = list(np.argsort(scores))\n",
    " \n",
    "    if day.split('/')[0] != next_day.split('/')[0]:\n",
    "        sel = ['CNY' for _ in range(3)]\n",
    "        all_trades[day] = sel\n",
    "        continue\n",
    "    \n",
    "    best, snd, worst = ranking[-1], ranking[-2], ranking[0]\n",
    "\n",
    "    if np.max(ret) < 0:\n",
    "        sel = ['CNY', 'CNY', tickers[worst]]\n",
    "    else:\n",
    "        sel = [tickers[best], tickers[snd], tickers[worst]]\n",
    "    all_trades[day] = sel\n",
    "    \n",
    "    \n"
   ]
  },
  {
   "cell_type": "code",
   "execution_count": 5,
   "metadata": {},
   "outputs": [
    {
     "name": "stdout",
     "output_type": "stream",
     "text": [
      "9821524.96280477\n"
     ]
    }
   ],
   "source": [
    "capital = 10000000\n",
    "pnl = []\n",
    "accumulative = [capital]\n",
    "for i in range(1, len(trading_days)):\n",
    "    \n",
    "    date = trading_days[i]\n",
    "    prev_date = trading_days[i-1]\n",
    "    selections = all_trades[prev_date]\n",
    "    prevs, currs = df_forward.iloc[dates.index(prev_date)], df_forward.iloc[dates.index(date)]\n",
    "    if selections == ['CNY', 'CNY', 'CNY']:\n",
    "        pnl.append(capital * 0.03/365)\n",
    "        capital += capital * 0.03/365\n",
    "        accumulative.append(capital)\n",
    "        continue\n",
    "    elif 'CNY' in selections:\n",
    "        yesterday = [1, 1, prevs[selections[-1]]]\n",
    "        today = [1+0.03/365, 1+0.03/365, currs[selections[-1]]]\n",
    "        \n",
    "    else:\n",
    "        yesterday = [prevs[selections[0]], prevs[selections[1]], prevs[selections[-1]]]\n",
    "        today = [currs[selections[0]], currs[selections[1]], currs[selections[-1]]]\n",
    "\n",
    "    r1 = 0.5 * capital / yesterday[0] * (today[0]-yesterday[0])\n",
    "\n",
    "    r2 = 0.5 * capital / yesterday[1] * (today[1]-yesterday[1])\n",
    "\n",
    "    r3 = -capital / yesterday[-1] * (today[-1]-yesterday[-1])\n",
    "    \n",
    "\n",
    "\n",
    "    pnl.append(r1+r2+r3)\n",
    "\n",
    "    capital += (r1+r2+r3)\n",
    "    accumulative.append(capital)\n",
    "print(capital)\n",
    "\n",
    "\n",
    "    \n",
    "    \n",
    "    \n",
    "    "
   ]
  },
  {
   "cell_type": "code",
   "execution_count": 6,
   "metadata": {},
   "outputs": [
    {
     "data": {
      "image/png": "[encoded data removed]",
      "text/plain": [
       "<Figure size 432x288 with 1 Axes>"
      ]
     },
     "metadata": {
      "needs_background": "light"
     },
     "output_type": "display_data"
    }
   ],
   "source": [
    "plt.title('Portfolio PnL')\n",
    "plt.xlabel(\"Trading days\")\n",
    "plt.ylabel('Accumulative Return Rate')\n",
    "plt.plot((np.array(accumulative)-1) / accumulative[0])\n",
    "plt.show()"
   ]
  },
  {
   "cell_type": "code",
   "execution_count": 7,
   "metadata": {},
   "outputs": [
    {
     "data": {
      "text/plain": [
       "-0.004486457907566779"
      ]
     },
     "execution_count": 7,
     "metadata": {},
     "output_type": "execute_result"
    }
   ],
   "source": [
    "accumulative = np.array(accumulative)\n",
    "returns = accumulative[1:] / accumulative[0:len(accumulative) - 1]\n",
    "returns -= 1\n",
    "sharpe = (returns.mean()) / np.std(returns) * np.sqrt(365)\n",
    "sharpe"
   ]
  },
  {
   "cell_type": "code",
   "execution_count": null,
   "metadata": {},
   "outputs": [],
   "source": []
  }
 ],
 "metadata": {
  "kernelspec": {
   "display_name": "Python 3",
   "language": "python",
   "name": "python3"
  },
  "language_info": {
   "codemirror_mode": {
    "name": "ipython",
    "version": 3
   },
   "file_extension": ".py",
   "mimetype": "text/x-python",
   "name": "python",
   "nbconvert_exporter": "python",
   "pygments_lexer": "ipython3",
   "version": "3.7.3"
  }
 },
 "nbformat": 4,
 "nbformat_minor": 4
}
