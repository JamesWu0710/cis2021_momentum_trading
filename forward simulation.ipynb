{
 "cells": [
  {
   "cell_type": "code",
   "execution_count": 1,
   "metadata": {},
   "outputs": [],
   "source": [
    "# Necessary packages imported.\n",
    "import numpy as np\n",
    "import pandas as pd"
   ]
  },
  {
   "cell_type": "code",
   "execution_count": 2,
   "metadata": {},
   "outputs": [],
   "source": [
    "# Read original data for interest rates and exchange rates\n",
    "# Define all the tickers for foreign currencies.\n",
    "\n",
    "df_ir = pd.read_csv('adjusted_ir.csv')\n",
    "df_ex = pd.read_csv('exchange_rates.csv')\n",
    "trading_days = pd.unique(df_ex['Date'])\n",
    "df_ir = df_ir[df_ir['DATE'].isin(trading_days)]\n",
    "tickers = list(df_ex.columns[1:])"
   ]
  },
  {
   "cell_type": "code",
   "execution_count": 4,
   "metadata": {},
   "outputs": [
    {
     "name": "stdout",
     "output_type": "stream",
     "text": [
      "Trading day index  0  finished\n",
      "Trading day index  50  finished\n",
      "Trading day index  100  finished\n",
      "Trading day index  150  finished\n",
      "Trading day index  200  finished\n",
      "Trading day index  250  finished\n",
      "Trading day index  300  finished\n",
      "Trading day index  350  finished\n",
      "Trading day index  400  finished\n",
      "Trading day index  450  finished\n",
      "Trading day index  500  finished\n",
      "Trading day index  550  finished\n",
      "Trading day index  600  finished\n",
      "Trading day index  650  finished\n",
      "Trading day index  700  finished\n",
      "Trading day index  750  finished\n",
      "Trading day index  800  finished\n",
      "Trading day index  850  finished\n",
      "Trading day index  900  finished\n",
      "Trading day index  950  finished\n",
      "Trading day index  1000  finished\n",
      "Trading day index  1050  finished\n",
      "Trading day index  1100  finished\n",
      "Trading day index  1150  finished\n",
      "Trading day index  1200  finished\n",
      "Trading day index  1250  finished\n",
      "Trading day index  1300  finished\n",
      "Trading day index  1350  finished\n",
      "Trading day index  1400  finished\n",
      "Trading day index  1450  finished\n",
      "Trading day index  1500  finished\n",
      "Trading day index  1550  finished\n",
      "Total number of lines:  1565\n"
     ]
    }
   ],
   "source": [
    "# Do the calculation using IRP.\n",
    "# Iterate through each trading day.\n",
    "# Sub-iteration through each foreign currency. \n",
    "\n",
    "df_fd = pd.DataFrame()\n",
    "\n",
    "bm = df_ir['CNY']\n",
    "\n",
    "for i in range(len(trading_days)):\n",
    "    \n",
    "    if i % 50 == 0:\n",
    "        print(\"Trading day index \",i,\" finished\")\n",
    "\n",
    "    temp_data = {}\n",
    "    date = trading_days[i]\n",
    "    temp_data['Date'] = date\n",
    "    ir_cn = bm[i]\n",
    "    ir_fr = df_ir[df_ir['DATE'] == date]\n",
    "    ex_fr = df_ex[df_ex['Date'] == date]\n",
    "\n",
    "    for cur in tickers:\n",
    "        cur_ir = ir_fr[cur]\n",
    "        cur_ex = ex_fr[cur]\n",
    "        sim_fwd =  (1 + ir_cn/100) / (1 + cur_ir/100) * cur_ex\n",
    "        temp_data[cur] = sim_fwd\n",
    "        \n",
    "    df_fd = pd.concat([df_fd, pd.DataFrame(temp_data)]) \n",
    "print(\"Total number of lines: \", len(trading_days))"
   ]
  },
  {
   "cell_type": "code",
   "execution_count": 5,
   "metadata": {},
   "outputs": [],
   "source": [
    "# Store as .csv file for future use.\n",
    "df_fd.to_csv('simulated_forward.csv',index=False,header=True)"
   ]
  },
  {
   "cell_type": "code",
   "execution_count": null,
   "metadata": {},
   "outputs": [],
   "source": []
  }
 ],
 "metadata": {
  "kernelspec": {
   "display_name": "Python 3",
   "language": "python",
   "name": "python3"
  },
  "language_info": {
   "codemirror_mode": {
    "name": "ipython",
    "version": 3
   },
   "file_extension": ".py",
   "mimetype": "text/x-python",
   "name": "python",
   "nbconvert_exporter": "python",
   "pygments_lexer": "ipython3",
   "version": "3.7.3"
  }
 },
 "nbformat": 4,
 "nbformat_minor": 4
}
